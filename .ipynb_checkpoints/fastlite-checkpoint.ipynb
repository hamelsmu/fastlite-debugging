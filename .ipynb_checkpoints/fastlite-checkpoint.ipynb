{
 "cells": [
  {
   "cell_type": "markdown",
   "id": "e6dff5db",
   "metadata": {},
   "source": [
    "## Debug fastlite issue"
   ]
  },
  {
   "cell_type": "code",
   "execution_count": 6,
   "id": "f3a2ac6f",
   "metadata": {},
   "outputs": [],
   "source": [
    "from fastlite import *"
   ]
  },
  {
   "cell_type": "code",
   "execution_count": 7,
   "id": "f1e5ea06",
   "metadata": {},
   "outputs": [],
   "source": [
    "class File:\n",
    "    \"A single file extracted from the zip\"\n",
    "    id: int\n",
    "    company: str\n",
    "    topfolder:str|None\n",
    "    subfolder:str|None\n",
    "    lfolder:str|None\n",
    "    filename:str|None\n",
    "    log:str|None\n",
    "    expire:int=0 # For db queue "
   ]
  },
  {
   "cell_type": "code",
   "execution_count": 16,
   "id": "b515c749",
   "metadata": {},
   "outputs": [],
   "source": [
    "!rm -f _files.db*\n",
    "db = database('_files.db')\n",
    "filetbl = db.create(File, transform=True)"
   ]
  },
  {
   "cell_type": "code",
   "execution_count": 17,
   "id": "9d942af3",
   "metadata": {},
   "outputs": [
    {
     "data": {
      "text/plain": [
       "File(id=1, company='Acme', topfolder=None, subfolder=None, lfolder=None, filename=None, log=None, expire=0)"
      ]
     },
     "execution_count": 17,
     "metadata": {},
     "output_type": "execute_result"
    }
   ],
   "source": [
    "filetbl.insert(File(company='Acme'))"
   ]
  },
  {
   "cell_type": "code",
   "execution_count": 18,
   "id": "87e36f32",
   "metadata": {},
   "outputs": [],
   "source": [
    "_f = filetbl[1]"
   ]
  },
  {
   "cell_type": "code",
   "execution_count": 19,
   "id": "5625fcae",
   "metadata": {},
   "outputs": [
    {
     "data": {
      "text/plain": [
       "File(id=1, company='Acme', topfolder=None, subfolder=None, lfolder=None, filename=None, log=None, expire=0)"
      ]
     },
     "execution_count": 19,
     "metadata": {},
     "output_type": "execute_result"
    }
   ],
   "source": [
    "_f"
   ]
  },
  {
   "cell_type": "markdown",
   "id": "969fda6e",
   "metadata": {},
   "source": [
    "### Lets update the record"
   ]
  },
  {
   "cell_type": "code",
   "execution_count": 20,
   "id": "e9f6ea78",
   "metadata": {},
   "outputs": [],
   "source": [
    "updates = {\n",
    "    'topfolder': {'old': 'Fundraising History', 'new': 'Commercial Contracts'},\n",
    "    'subfolder': {'old': 'SAFE Financings', 'new': 'Vendor Agreements'},\n",
    "    'lfolder': {'old': None, 'new': 'Acme Corp'},\n",
    "    'filename': {'old': '2020-09-24 - test client - SAFE Summary', 'new': '2020-09-24 - test client - Vendor Agreement'}\n",
    "}\n",
    "for k,v in updates.items(): setattr(_f, k, v['new'])"
   ]
  },
  {
   "cell_type": "code",
   "execution_count": 21,
   "id": "4bb48bd6",
   "metadata": {},
   "outputs": [
    {
     "data": {
      "text/plain": [
       "File(id=1, company='Acme', topfolder='Commercial Contracts', subfolder='Vendor Agreements', lfolder='Acme Corp', filename='2020-09-24 - test client - Vendor Agreement', log=None, expire=0)"
      ]
     },
     "execution_count": 21,
     "metadata": {},
     "output_type": "execute_result"
    }
   ],
   "source": [
    "_f"
   ]
  },
  {
   "cell_type": "code",
   "execution_count": 22,
   "id": "8861aa4e",
   "metadata": {},
   "outputs": [
    {
     "data": {
      "text/plain": [
       "File(id=1, company='Acme', topfolder='Commercial Contracts', subfolder='Vendor Agreements', lfolder='Acme Corp', filename='2020-09-24 - test client - Vendor Agreement', log=None, expire=0)"
      ]
     },
     "execution_count": 22,
     "metadata": {},
     "output_type": "execute_result"
    }
   ],
   "source": [
    "filetbl.update(_f)"
   ]
  },
  {
   "cell_type": "markdown",
   "id": "2aa0953f",
   "metadata": {},
   "source": [
    "### Let me update the log column \n",
    "\n",
    "**QUESTION: WHY DOES THIS UPDATE OTHER FIELDS?**"
   ]
  },
  {
   "cell_type": "code",
   "execution_count": 23,
   "id": "76fff8be",
   "metadata": {},
   "outputs": [],
   "source": [
    "_f.log = updates"
   ]
  },
  {
   "cell_type": "code",
   "execution_count": 24,
   "id": "1439bbb0",
   "metadata": {},
   "outputs": [
    {
     "data": {
      "text/plain": [
       "File(id=1, company='Acme', topfolder='Commercial Contracts', subfolder='Vendor Agreements', lfolder='Acme Corp', filename='2020-09-24 - test client - Vendor Agreement', log={'topfolder': {'old': 'Fundraising History', 'new': 'Commercial Contracts'}, 'subfolder': {'old': 'SAFE Financings', 'new': 'Vendor Agreements'}, 'lfolder': {'old': None, 'new': 'Acme Corp'}, 'filename': {'old': '2020-09-24 - test client - SAFE Summary', 'new': '2020-09-24 - test client - Vendor Agreement'}}, expire=0)"
      ]
     },
     "execution_count": 24,
     "metadata": {},
     "output_type": "execute_result"
    }
   ],
   "source": [
    "_f"
   ]
  },
  {
   "cell_type": "code",
   "execution_count": null,
   "id": "19e994bc",
   "metadata": {},
   "outputs": [],
   "source": []
  }
 ],
 "metadata": {
  "kernelspec": {
   "display_name": "Python 3 (ipykernel)",
   "language": "python",
   "name": "python3"
  },
  "language_info": {
   "codemirror_mode": {
    "name": "ipython",
    "version": 3
   },
   "file_extension": ".py",
   "mimetype": "text/x-python",
   "name": "python",
   "nbconvert_exporter": "python",
   "pygments_lexer": "ipython3",
   "version": "3.12.7"
  }
 },
 "nbformat": 4,
 "nbformat_minor": 5
}
